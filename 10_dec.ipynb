{
 "cells": [
  {
   "cell_type": "code",
   "execution_count": 2,
   "id": "8e2c6729-a656-4347-acca-e90e132b9130",
   "metadata": {},
   "outputs": [
    {
     "name": "stdout",
     "output_type": "stream",
     "text": [
      "4\n"
     ]
    }
   ],
   "source": [
    "#1\n",
    "arr=[4,5,4,64,33,55,343,4,5]\n",
    "def r(arr):\n",
    "    f={}\n",
    "    for num in arr:\n",
    "        if num in f:\n",
    "            f[num]+=1\n",
    "        else:\n",
    "            f[num]=1\n",
    "    m=0\n",
    "    e=None\n",
    "    for num,count in f.items():\n",
    "        if count>m:\n",
    "            m=count\n",
    "            e=num\n",
    "    return e\n",
    "print(r(arr))"
   ]
  },
  {
   "cell_type": "code",
   "execution_count": 8,
   "id": "d928aac9-1c91-4770-af2f-46bb7fc3a19c",
   "metadata": {},
   "outputs": [
    {
     "name": "stdout",
     "output_type": "stream",
     "text": [
      "8\n"
     ]
    }
   ],
   "source": [
    "#2\n",
    "l=[1,2,3,4,6,7,5]\n",
    "n=len(l)\n",
    "for i in range(1,n+2):\n",
    "    if i in l:\n",
    "        continue\n",
    "    else:\n",
    "        print(i)\n",
    "        "
   ]
  },
  {
   "cell_type": "code",
   "execution_count": 14,
   "id": "34861eb0-eb0b-465f-a1ca-49ebf558b54c",
   "metadata": {},
   "outputs": [
    {
     "name": "stdout",
     "output_type": "stream",
     "text": [
      "3\n"
     ]
    }
   ],
   "source": [
    "#3\n",
    "arr=[1,2,1,3,2,3,4,3,4]\n",
    "def f(arr):\n",
    "    f={}\n",
    "    for num in arr:\n",
    "        if num in f:\n",
    "            f[num]+=1\n",
    "        else:\n",
    "            f[num]=1\n",
    "    for k,v in f.items():\n",
    "        if v%2 !=0:\n",
    "            return k\n",
    "        \n",
    "print(f(arr))"
   ]
  },
  {
   "cell_type": "code",
   "execution_count": 17,
   "id": "64b12bd0-7b62-48fb-a857-63a7dd2e397d",
   "metadata": {},
   "outputs": [
    {
     "name": "stdout",
     "output_type": "stream",
     "text": [
      "4 64\n"
     ]
    }
   ],
   "source": [
    "#4\n",
    "arr=[4,5,64,33,55,343]\n",
    "t=68\n",
    "seen=set()\n",
    "for i in arr:\n",
    "    a=t-i\n",
    "    if a in seen:\n",
    "        print(a,i)\n",
    "    else:\n",
    "        seen.add(i)\n"
   ]
  },
  {
   "cell_type": "code",
   "execution_count": 14,
   "id": "44e2ac3f-a456-4c30-93ac-d642b9d82a15",
   "metadata": {},
   "outputs": [
    {
     "name": "stdout",
     "output_type": "stream",
     "text": [
      "(85, -80)\n"
     ]
    }
   ],
   "source": [
    "#5\n",
    "a=[ 1 ,60 ,-10, 70, -80,85]\n",
    "seen=set()\n",
    "m=10**9\n",
    "closest_pair = (a[0], a[1])\n",
    "for i in a:\n",
    "    for p in seen:\n",
    "        c=i+p\n",
    "        if abs(c)<abs(m):\n",
    "            m=c\n",
    "            closest_pair = (i, p)\n",
    "        \n",
    "    seen.add(i)\n",
    "print(closest_pair)"
   ]
  },
  {
   "cell_type": "code",
   "execution_count": 14,
   "id": "bdd1f400-45f7-4aa1-9142-02c43a1a503d",
   "metadata": {},
   "outputs": [
    {
     "name": "stdout",
     "output_type": "stream",
     "text": [
      "343 64 33\n"
     ]
    }
   ],
   "source": [
    "#6\n",
    "arr=[4,5,64,33,55,343]\n",
    "t=440\n",
    "seen=set()\n",
    "for i in arr:\n",
    "    for j in seen:\n",
    "        a=t-i-j\n",
    "        if a in seen:\n",
    "            print(i,j,a)\n",
    "            break\n",
    "    seen.add(i)"
   ]
  },
  {
   "cell_type": "code",
   "execution_count": 10,
   "id": "04c5c3ad-5d58-4a00-a065-f7f5b0fe708a",
   "metadata": {},
   "outputs": [
    {
     "name": "stdout",
     "output_type": "stream",
     "text": [
      "(64, 33, 343)\n"
     ]
    }
   ],
   "source": [
    "arr=[4,5,64,33,55,343]\n",
    "t=440\n",
    "r=(arr[0],arr[1],arr[2])\n",
    "for i in range(len(arr)):\n",
    "    for j in range(i + 1, len(arr)):\n",
    "        for k in range(j + 1, len(arr)):\n",
    "            if t == arr[i] + arr[j] + arr[k]:\n",
    "                r = (arr[i], arr[j], arr[k])\n",
    "                print(r)\n",
    "                break\n"
   ]
  },
  {
   "cell_type": "code",
   "execution_count": 23,
   "id": "aee30d77-acca-4239-bfc2-1cffe4cc36ef",
   "metadata": {},
   "outputs": [
    {
     "name": "stdout",
     "output_type": "stream",
     "text": [
      "(5, 3, 4)\n"
     ]
    }
   ],
   "source": [
    "#7\n",
    "arr=[5,3,64,31,4,343]\n",
    "r=(arr[0],arr[1],arr[2])\n",
    "for i in range(len(arr)):\n",
    "    for j in range(i + 1, len(arr)):\n",
    "        for k in range(j + 1, len(arr)):\n",
    "            if arr[k]*arr[k] == arr[i]*arr[i] + arr[j]*arr[j]:\n",
    "                r = (arr[i], arr[j], arr[k])\n",
    "                print(r)\n",
    "                break\n",
    "            if arr[i]*arr[i] == arr[k]*arr[k] + arr[j]*arr[j]:\n",
    "                r = (arr[i], arr[j], arr[k])\n",
    "                print(r)\n",
    "                break\n",
    "            if arr[j]*arr[j] == arr[i]*arr[i] + arr[k]*arr[k]:\n",
    "                r = (arr[i], arr[j], arr[k])\n",
    "                print(r)\n",
    "                break"
   ]
  },
  {
   "cell_type": "code",
   "execution_count": 34,
   "id": "5e2e0c9b-2b8b-459d-b4bb-3e4d970612d3",
   "metadata": {},
   "outputs": [
    {
     "name": "stdout",
     "output_type": "stream",
     "text": [
      "4\n"
     ]
    }
   ],
   "source": [
    "#8\n",
    "a=[3, 3, 4, 4, 4, 4, 4, 3, 3, 3]\n",
    "count=0\n",
    "c=None\n",
    "for i in a:\n",
    "    if c==i:\n",
    "        count+=1\n",
    "    elif count==0:\n",
    "        c=i\n",
    "        count+=1\n",
    "    else:\n",
    "        count-=1\n",
    "count=0\n",
    "for i in a:\n",
    "    if c==i:\n",
    "        count+=1\n",
    "if len(a)/2<=count:\n",
    "    print(c)\n",
    "        \n",
    "    "
   ]
  },
  {
   "cell_type": "code",
   "execution_count": 1,
   "id": "8e167b8b-30a8-47da-973d-f3e3ea811176",
   "metadata": {},
   "outputs": [
    {
     "name": "stdout",
     "output_type": "stream",
     "text": [
      "0\n"
     ]
    }
   ],
   "source": [
    "#9\n",
    "matrix = [[0, 0, 0],\n",
    "         [0, 1, 1],\n",
    "         [1, 1, 1]]\n",
    "m=-1\n",
    "z=0\n",
    "for i in range(len(matrix)):\n",
    "    count=0\n",
    "    for j in range(len(matrix)):\n",
    "        if matrix[i][j]==0:\n",
    "            count+=1\n",
    "    if count>z:\n",
    "        z=count\n",
    "        m=i\n",
    "print(m)\n",
    "        \n",
    "\n"
   ]
  },
  {
   "cell_type": "code",
   "execution_count": 2,
   "id": "102a3168-63df-42cb-96be-d3f8673d51d3",
   "metadata": {},
   "outputs": [
    {
     "name": "stdout",
     "output_type": "stream",
     "text": [
      "[0, 1, 1, 0, 1, 2, 1, 2, 0, 0, 0, 1]\n",
      "[0, 0, 0, 0, 0, 1, 1, 1, 1, 1, 2, 2]\n"
     ]
    }
   ],
   "source": [
    "#10\n",
    "t = [0,1,1,0,1,2,1,2,0,0,0,1]\n",
    "print(t)\n",
    "for i in range(len(t)):\n",
    "    if t[i] == 0:\n",
    "        continue\n",
    "    elif t[i]==1:\n",
    "        for j in range(i+1,len(t)):\n",
    "            if t[j]==0:\n",
    "                t[i],t[j]=t[j],t[i]\n",
    "                break\n",
    "    else:\n",
    "        for k in range(i+1,len(t)):\n",
    "            if t[k]==0:\n",
    "                t[i],t[k]=t[k],t[i]\n",
    "                break\n",
    "            if t[k]==1:\n",
    "                t[i],t[k]=t[k],t[i]\n",
    "                break\n",
    "print(t)        "
   ]
  },
  {
   "cell_type": "code",
   "execution_count": null,
   "id": "5126f2ae-f90e-49eb-ba6d-fe878ae916c3",
   "metadata": {},
   "outputs": [],
   "source": []
  }
 ],
 "metadata": {
  "kernelspec": {
   "display_name": "Python 3 (ipykernel)",
   "language": "python",
   "name": "python3"
  },
  "language_info": {
   "codemirror_mode": {
    "name": "ipython",
    "version": 3
   },
   "file_extension": ".py",
   "mimetype": "text/x-python",
   "name": "python",
   "nbconvert_exporter": "python",
   "pygments_lexer": "ipython3",
   "version": "3.10.8"
  }
 },
 "nbformat": 4,
 "nbformat_minor": 5
}
